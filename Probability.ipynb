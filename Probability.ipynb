{
  "nbformat": 4,
  "nbformat_minor": 0,
  "metadata": {
    "colab": {
      "provenance": []
    },
    "kernelspec": {
      "name": "python3",
      "display_name": "Python 3"
    },
    "language_info": {
      "name": "python"
    }
  },
  "cells": [
    {
      "cell_type": "code",
      "source": [
        "import pandas as pd"
      ],
      "metadata": {
        "id": "zIGII6rmVhJ8"
      },
      "execution_count": null,
      "outputs": []
    },
    {
      "cell_type": "code",
      "source": [
        "df = pd.read_excel (r'/content/NIFTY_50_-_HistoricalPE_PBDIV_Data.xlsx')\n",
        "a = df['Composite Index'].dropna().values\n",
        "arr1 = a\n",
        "print(a)\n",
        "print(len(a))\n"
      ],
      "metadata": {
        "colab": {
          "base_uri": "https://localhost:8080/"
        },
        "id": "s492SW9HVHHl",
        "outputId": "78f1a2b7-7fec-4285-cc2c-153d35057d9b"
      },
      "execution_count": null,
      "outputs": [
        {
          "output_type": "stream",
          "name": "stdout",
          "text": [
            "[65.10888889 65.43544118 66.32320896 ... 13.95664804 13.46828729\n",
            " 13.14393443]\n",
            "5876\n"
          ]
        }
      ]
    },
    {
      "cell_type": "code",
      "execution_count": null,
      "metadata": {
        "colab": {
          "base_uri": "https://localhost:8080/"
        },
        "id": "lAWnt1jPIgLY",
        "outputId": "8d67531a-f098-4ae6-bb94-7333b99c60ba"
      },
      "outputs": [
        {
          "output_type": "stream",
          "name": "stdout",
          "text": [
            "probability is 1.0\n",
            "sum is 16915837.0\n"
          ]
        }
      ],
      "source": [
        "import math\n",
        "import numpy as np\n",
        "\n",
        "arr = (range(5876))\n",
        "parr =list(range(5817))\n",
        "\n",
        "for i in range(1):\n",
        "    max_val = max(arr[0+i:60+i])\n",
        "    min_val = min(arr[0+i:60+i])\n",
        "    \n",
        "    val_range = max_val - min_val\n",
        "    h = math.ceil(val_range/10)\n",
        "    \n",
        "    p = 0\n",
        "    low = min_val\n",
        "    prob_arr = []*(11)\n",
        "    for k in range(10):\n",
        "        ctr = 0\n",
        "        high = low + h\n",
        "        #print(\"low is\", low)\n",
        "        #print(\"high is\", high)\n",
        "        for j in range(i, 60+i):\n",
        "            if arr[j] >= low and arr[j] < high:\n",
        "                ctr += 1\n",
        "                #print(\"ctr is\", ctr)\n",
        "            else:\n",
        "                continue\n",
        "        # print(\"ctr is\", ctr)\n",
        "        prob = float(ctr/60)\n",
        "        \n",
        "        #print(\"prob is\", prob)\n",
        "        p += prob\n",
        "        #print(\"p is\", p)\n",
        "        low += h\n",
        "    parr[i] = round(p,1)\n",
        "    print(\"probability is\", parr[i])\n",
        "\n",
        "sum_val = sum(parr)\n",
        "print(\"sum is\", sum_val)\n",
        "\n",
        "\n",
        "\n"
      ]
    }
  ]
}